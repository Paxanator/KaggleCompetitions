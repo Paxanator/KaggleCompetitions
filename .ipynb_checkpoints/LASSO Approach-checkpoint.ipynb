{
 "metadata": {
  "name": "",
  "signature": "sha256:294cafcc337bab9e742da9601048e99bf0a806aed09e638fb60f2f1c0fb96466"
 },
 "nbformat": 3,
 "nbformat_minor": 0,
 "worksheets": [
  {
   "cells": [
    {
     "cell_type": "heading",
     "level": 1,
     "metadata": {},
     "source": [
      "Restaurant Revenue Prediction - Kaggle Competiton"
     ]
    },
    {
     "cell_type": "heading",
     "level": 2,
     "metadata": {},
     "source": [
      "Author: Patrick Boueri"
     ]
    },
    {
     "cell_type": "heading",
     "level": 2,
     "metadata": {},
     "source": [
      "Approach: LASSO Model"
     ]
    },
    {
     "cell_type": "code",
     "collapsed": false,
     "input": [
      "from sklearn import linear_model as lm\n",
      "import numpy as np\n",
      "import pandas as pd\n",
      "from matplotlib import pyplot as plt\n",
      "import os\n",
      "import sys\n",
      "%matplotlib inline"
     ],
     "language": "python",
     "metadata": {},
     "outputs": [],
     "prompt_number": 63
    },
    {
     "cell_type": "code",
     "collapsed": false,
     "input": [
      "os.path.dirname(os.path.abspath(sys.argv[0])) ## Set the local path "
     ],
     "language": "python",
     "metadata": {},
     "outputs": [
      {
       "metadata": {},
       "output_type": "pyout",
       "prompt_number": 64,
       "text": [
        "'C:\\\\Users\\\\Patrick\\\\Columbia\\\\Kaggle Competition\\\\Restaurant Revenue Prediction'"
       ]
      }
     ],
     "prompt_number": 64
    },
    {
     "cell_type": "heading",
     "level": 3,
     "metadata": {},
     "source": [
      "Load in the training data and display some summary stats"
     ]
    },
    {
     "cell_type": "code",
     "collapsed": false,
     "input": [
      "train = pd.read_csv('train.csv',sep=',')\n",
      "train.set_index('Id',inplace=True)"
     ],
     "language": "python",
     "metadata": {},
     "outputs": [],
     "prompt_number": 65
    },
    {
     "cell_type": "heading",
     "level": 2,
     "metadata": {},
     "source": [
      "Investigate Dependent Variable, ensure normality"
     ]
    },
    {
     "cell_type": "code",
     "collapsed": false,
     "input": [
      "plt.hist(train['revenue']) ## The distribution is log normal so correct for it"
     ],
     "language": "python",
     "metadata": {},
     "outputs": [
      {
       "metadata": {},
       "output_type": "pyout",
       "prompt_number": 66,
       "text": [
        "(array([ 36.,  60.,  23.,  10.,   5.,   0.,   1.,   0.,   1.,   1.]),\n",
        " array([  1149870. ,   3004576.9,   4859283.8,   6713990.7,   8568697.6,\n",
        "         10423404.5,  12278111.4,  14132818.3,  15987525.2,  17842232.1,\n",
        "         19696939. ]),\n",
        " <a list of 10 Patch objects>)"
       ]
      },
      {
       "metadata": {},
       "output_type": "display_data",
       "png": "[encoded data removed]",
       "text": [
        "<matplotlib.figure.Figure at 0x4505550>"
       ]
      }
     ],
     "prompt_number": 66
    },
    {
     "cell_type": "code",
     "collapsed": false,
     "input": [
      "plt.hist(np.log(train['revenue'])) ## Really good looking normal distribution, we can work with it"
     ],
     "language": "python",
     "metadata": {},
     "outputs": [
      {
       "metadata": {},
       "output_type": "pyout",
       "prompt_number": 67,
       "text": [
        "(array([  2.,  11.,  15.,  26.,  40.,  22.,  13.,   5.,   1.,   2.]),\n",
        " array([ 13.95515945,  14.23924089,  14.52332232,  14.80740376,\n",
        "         15.09148519,  15.37556663,  15.65964806,  15.9437295 ,\n",
        "         16.22781093,  16.51189237,  16.7959738 ]),\n",
        " <a list of 10 Patch objects>)"
       ]
      },
      {
       "metadata": {},
       "output_type": "display_data",
       "png": "[encoded data removed]",
       "text": [
        "<matplotlib.figure.Figure at 0x6171940>"
       ]
      }
     ],
     "prompt_number": 67
    },
    {
     "cell_type": "heading",
     "level": 2,
     "metadata": {},
     "source": [
      "Set up training sets and investigate object types"
     ]
    },
    {
     "cell_type": "code",
     "collapsed": false,
     "input": [
      "yTrain = np.log(train['revenue'])\n",
      "xTrain = train.drop('revenue',axis=1)"
     ],
     "language": "python",
     "metadata": {},
     "outputs": [],
     "prompt_number": 68
    },
    {
     "cell_type": "code",
     "collapsed": false,
     "input": [
      "xTrain.dtypes ##Want to Factorize type and city group, change opendate to time representation"
     ],
     "language": "python",
     "metadata": {},
     "outputs": [
      {
       "metadata": {},
       "output_type": "pyout",
       "prompt_number": 69,
       "text": [
        "Open Date      object\n",
        "City           object\n",
        "City Group     object\n",
        "Type           object\n",
        "P1              int64\n",
        "P2            float64\n",
        "P3            float64\n",
        "P4            float64\n",
        "P5              int64\n",
        "P6              int64\n",
        "P7              int64\n",
        "P8              int64\n",
        "P9              int64\n",
        "P10             int64\n",
        "P11             int64\n",
        "P12             int64\n",
        "P13           float64\n",
        "P14             int64\n",
        "P15             int64\n",
        "P16             int64\n",
        "P17             int64\n",
        "P18             int64\n",
        "P19             int64\n",
        "P20             int64\n",
        "P21             int64\n",
        "P22             int64\n",
        "P23             int64\n",
        "P24             int64\n",
        "P25             int64\n",
        "P26           float64\n",
        "P27           float64\n",
        "P28           float64\n",
        "P29           float64\n",
        "P30             int64\n",
        "P31             int64\n",
        "P32             int64\n",
        "P33             int64\n",
        "P34             int64\n",
        "P35             int64\n",
        "P36             int64\n",
        "P37             int64\n",
        "dtype: object"
       ]
      }
     ],
     "prompt_number": 69
    },
    {
     "cell_type": "markdown",
     "metadata": {},
     "source": [
      "Plan is to factorize categorical values into indicator variables and find how much time has past since it opened"
     ]
    },
    {
     "cell_type": "code",
     "collapsed": false,
     "input": [
      "now = pd.datetime.now() #Get the current datetime to figure out how old the shops are\n",
      "xTrain['Open Date'] = pd.to_datetime(xTrain['Open Date']) #\n",
      "xTrain['Years Since Open'] = ((now - xTrain['Open Date'])/np.timedelta64(1,'Y')).astype('int') ##How many years ago the shops opened\n",
      "xTrain = pd.merge(xTrain,pd.get_dummies(xTrain['Type']),left_index=True,right_index=True,how='left') ##Get the indicator vars for Type\n",
      "xTrain = pd.merge(xTrain,pd.get_dummies(xTrain['City Group']),left_index=True,right_index=True,how='left')##Get the indicator vars for City Group\n",
      "xTrain.drop(['Type', 'City Group','City','Open Date'],inplace=True,axis=1) ##Remove unnecessary columns"
     ],
     "language": "python",
     "metadata": {},
     "outputs": [],
     "prompt_number": 70
    },
    {
     "cell_type": "markdown",
     "metadata": {},
     "source": [
      "Normalize all columns except the indicator columns (conveniently the last 5)"
     ]
    },
    {
     "cell_type": "code",
     "collapsed": false,
     "input": [
      "xTrainNorm = xTrain\n",
      "xTrainNorm[xTrain.columns[:-5]] = (xTrain[xTrain.columns[:-5]] - xTrain[xTrain.columns[:-5]].mean())/xTrain[xTrain.columns[:-5]].std()\n",
      "xTrainNorm.ix[:10]"
     ],
     "language": "python",
     "metadata": {},
     "outputs": [
      {
       "html": [
        "<div style=\"max-height:1000px;max-width:1500px;overflow:auto;\">\n",
        "<table border=\"1\" class=\"dataframe\">\n",
        "  <thead>\n",
        "    <tr style=\"text-align: right;\">\n",
        "      <th></th>\n",
        "      <th>P1</th>\n",
        "      <th>P2</th>\n",
        "      <th>P3</th>\n",
        "      <th>P4</th>\n",
        "      <th>P5</th>\n",
        "      <th>P6</th>\n",
        "      <th>P7</th>\n",
        "      <th>P8</th>\n",
        "      <th>P9</th>\n",
        "      <th>P10</th>\n",
        "      <th>...</th>\n",
        "      <th>P34</th>\n",
        "      <th>P35</th>\n",
        "      <th>P36</th>\n",
        "      <th>P37</th>\n",
        "      <th>Years Since Open</th>\n",
        "      <th>DT</th>\n",
        "      <th>FC</th>\n",
        "      <th>IL</th>\n",
        "      <th>Big Cities</th>\n",
        "      <th>Other</th>\n",
        "    </tr>\n",
        "    <tr>\n",
        "      <th>Id</th>\n",
        "      <th></th>\n",
        "      <th></th>\n",
        "      <th></th>\n",
        "      <th></th>\n",
        "      <th></th>\n",
        "      <th></th>\n",
        "      <th></th>\n",
        "      <th></th>\n",
        "      <th></th>\n",
        "      <th></th>\n",
        "      <th></th>\n",
        "      <th></th>\n",
        "      <th></th>\n",
        "      <th></th>\n",
        "      <th></th>\n",
        "      <th></th>\n",
        "      <th></th>\n",
        "      <th></th>\n",
        "      <th></th>\n",
        "      <th></th>\n",
        "      <th></th>\n",
        "    </tr>\n",
        "  </thead>\n",
        "  <tbody>\n",
        "    <tr>\n",
        "      <th>0 </th>\n",
        "      <td>-0.005016</td>\n",
        "      <td> 0.390284</td>\n",
        "      <td>-0.307572</td>\n",
        "      <td>-0.366234</td>\n",
        "      <td>-0.006034</td>\n",
        "      <td>-0.636136</td>\n",
        "      <td>-0.184324</td>\n",
        "      <td>-0.620524</td>\n",
        "      <td>-0.242673</td>\n",
        "      <td>-0.264701</td>\n",
        "      <td>...</td>\n",
        "      <td> 0.486138</td>\n",
        "      <td> 0.573529</td>\n",
        "      <td> 0.189127</td>\n",
        "      <td> 1.610042</td>\n",
        "      <td> 2.349939</td>\n",
        "      <td> 0</td>\n",
        "      <td> 0</td>\n",
        "      <td> 1</td>\n",
        "      <td> 1</td>\n",
        "      <td> 0</td>\n",
        "    </tr>\n",
        "    <tr>\n",
        "      <th>1 </th>\n",
        "      <td>-0.005016</td>\n",
        "      <td> 0.390284</td>\n",
        "      <td>-0.307572</td>\n",
        "      <td>-0.366234</td>\n",
        "      <td>-0.832740</td>\n",
        "      <td>-0.636136</td>\n",
        "      <td>-0.184324</td>\n",
        "      <td>-0.082475</td>\n",
        "      <td>-0.242673</td>\n",
        "      <td>-0.264701</td>\n",
        "      <td>...</td>\n",
        "      <td>-0.481899</td>\n",
        "      <td>-0.590523</td>\n",
        "      <td>-0.530606</td>\n",
        "      <td>-0.623637</td>\n",
        "      <td> 0.358034</td>\n",
        "      <td> 0</td>\n",
        "      <td> 1</td>\n",
        "      <td> 0</td>\n",
        "      <td> 1</td>\n",
        "      <td> 0</td>\n",
        "    </tr>\n",
        "    <tr>\n",
        "      <th>2 </th>\n",
        "      <td>-0.692209</td>\n",
        "      <td>-0.269826</td>\n",
        "      <td>-2.244924</td>\n",
        "      <td> 0.617571</td>\n",
        "      <td>-0.006034</td>\n",
        "      <td>-0.167584</td>\n",
        "      <td>-0.184324</td>\n",
        "      <td>-0.082475</td>\n",
        "      <td>-0.242673</td>\n",
        "      <td>-0.264701</td>\n",
        "      <td>...</td>\n",
        "      <td>-0.481899</td>\n",
        "      <td>-0.590523</td>\n",
        "      <td>-0.530606</td>\n",
        "      <td>-0.623637</td>\n",
        "      <td>-0.886907</td>\n",
        "      <td> 0</td>\n",
        "      <td> 0</td>\n",
        "      <td> 1</td>\n",
        "      <td> 0</td>\n",
        "      <td> 1</td>\n",
        "    </tr>\n",
        "    <tr>\n",
        "      <th>3 </th>\n",
        "      <td> 0.682177</td>\n",
        "      <td> 0.060229</td>\n",
        "      <td> 1.629779</td>\n",
        "      <td> 1.601375</td>\n",
        "      <td> 1.647377</td>\n",
        "      <td> 0.300968</td>\n",
        "      <td> 1.992609</td>\n",
        "      <td> 1.531672</td>\n",
        "      <td> 2.482429</td>\n",
        "      <td> 2.441569</td>\n",
        "      <td>...</td>\n",
        "      <td> 3.003034</td>\n",
        "      <td> 2.901634</td>\n",
        "      <td> 2.348327</td>\n",
        "      <td> 2.726882</td>\n",
        "      <td>-0.637918</td>\n",
        "      <td> 0</td>\n",
        "      <td> 0</td>\n",
        "      <td> 1</td>\n",
        "      <td> 0</td>\n",
        "      <td> 1</td>\n",
        "    </tr>\n",
        "    <tr>\n",
        "      <th>4 </th>\n",
        "      <td>-0.348612</td>\n",
        "      <td>-0.269826</td>\n",
        "      <td>-1.276248</td>\n",
        "      <td>-0.366234</td>\n",
        "      <td>-0.006034</td>\n",
        "      <td>-0.636136</td>\n",
        "      <td>-0.184324</td>\n",
        "      <td>-0.082475</td>\n",
        "      <td>-0.242673</td>\n",
        "      <td>-0.264701</td>\n",
        "      <td>...</td>\n",
        "      <td> 0.098923</td>\n",
        "      <td> 0.573529</td>\n",
        "      <td> 0.189127</td>\n",
        "      <td> 1.051623</td>\n",
        "      <td>-0.139942</td>\n",
        "      <td> 0</td>\n",
        "      <td> 0</td>\n",
        "      <td> 1</td>\n",
        "      <td> 0</td>\n",
        "      <td> 1</td>\n",
        "    </tr>\n",
        "    <tr>\n",
        "      <th>5 </th>\n",
        "      <td> 0.682177</td>\n",
        "      <td> 1.050393</td>\n",
        "      <td> 0.176766</td>\n",
        "      <td> 3.077081</td>\n",
        "      <td> 4.954199</td>\n",
        "      <td> 3.112279</td>\n",
        "      <td> 1.992609</td>\n",
        "      <td> 1.531672</td>\n",
        "      <td> 1.392388</td>\n",
        "      <td> 1.359061</td>\n",
        "      <td>...</td>\n",
        "      <td>-0.481899</td>\n",
        "      <td>-0.590523</td>\n",
        "      <td>-0.530606</td>\n",
        "      <td>-0.623637</td>\n",
        "      <td>-0.139942</td>\n",
        "      <td> 0</td>\n",
        "      <td> 1</td>\n",
        "      <td> 0</td>\n",
        "      <td> 1</td>\n",
        "      <td> 0</td>\n",
        "    </tr>\n",
        "    <tr>\n",
        "      <th>6 </th>\n",
        "      <td>-0.692209</td>\n",
        "      <td>-0.929935</td>\n",
        "      <td>-0.307572</td>\n",
        "      <td>-0.366234</td>\n",
        "      <td>-0.832740</td>\n",
        "      <td> 0.769520</td>\n",
        "      <td>-0.184324</td>\n",
        "      <td>-0.082475</td>\n",
        "      <td>-0.242673</td>\n",
        "      <td>-0.264701</td>\n",
        "      <td>...</td>\n",
        "      <td> 0.098923</td>\n",
        "      <td> 0.864542</td>\n",
        "      <td> 0.429038</td>\n",
        "      <td> 1.610042</td>\n",
        "      <td>-0.388930</td>\n",
        "      <td> 0</td>\n",
        "      <td> 0</td>\n",
        "      <td> 1</td>\n",
        "      <td> 1</td>\n",
        "      <td> 0</td>\n",
        "    </tr>\n",
        "    <tr>\n",
        "      <th>7 </th>\n",
        "      <td>-0.005016</td>\n",
        "      <td> 0.390284</td>\n",
        "      <td>-0.307572</td>\n",
        "      <td> 0.617571</td>\n",
        "      <td>-0.006034</td>\n",
        "      <td>-0.167584</td>\n",
        "      <td>-0.184324</td>\n",
        "      <td>-0.620524</td>\n",
        "      <td>-0.787694</td>\n",
        "      <td>-0.805955</td>\n",
        "      <td>...</td>\n",
        "      <td>-0.481899</td>\n",
        "      <td>-0.590523</td>\n",
        "      <td>-0.530606</td>\n",
        "      <td>-0.623637</td>\n",
        "      <td>-0.637918</td>\n",
        "      <td> 0</td>\n",
        "      <td> 0</td>\n",
        "      <td> 1</td>\n",
        "      <td> 1</td>\n",
        "      <td> 0</td>\n",
        "    </tr>\n",
        "    <tr>\n",
        "      <th>8 </th>\n",
        "      <td>-1.035805</td>\n",
        "      <td>-2.250154</td>\n",
        "      <td>-0.307572</td>\n",
        "      <td>-0.366234</td>\n",
        "      <td>-0.832740</td>\n",
        "      <td>-0.636136</td>\n",
        "      <td>-1.925871</td>\n",
        "      <td>-0.082475</td>\n",
        "      <td>-0.242673</td>\n",
        "      <td>-0.264701</td>\n",
        "      <td>...</td>\n",
        "      <td> 0.292531</td>\n",
        "      <td> 0.864542</td>\n",
        "      <td> 0.429038</td>\n",
        "      <td> 2.168462</td>\n",
        "      <td>-0.388930</td>\n",
        "      <td> 0</td>\n",
        "      <td> 0</td>\n",
        "      <td> 1</td>\n",
        "      <td> 0</td>\n",
        "      <td> 1</td>\n",
        "    </tr>\n",
        "    <tr>\n",
        "      <th>9 </th>\n",
        "      <td> 0.682177</td>\n",
        "      <td> 0.060229</td>\n",
        "      <td> 1.629779</td>\n",
        "      <td> 3.077081</td>\n",
        "      <td> 3.300788</td>\n",
        "      <td> 0.300968</td>\n",
        "      <td> 1.992609</td>\n",
        "      <td> 2.607770</td>\n",
        "      <td> 2.482429</td>\n",
        "      <td> 2.441569</td>\n",
        "      <td>...</td>\n",
        "      <td>-0.481899</td>\n",
        "      <td>-0.590523</td>\n",
        "      <td>-0.530606</td>\n",
        "      <td>-0.623637</td>\n",
        "      <td>-0.637918</td>\n",
        "      <td> 0</td>\n",
        "      <td> 0</td>\n",
        "      <td> 1</td>\n",
        "      <td> 0</td>\n",
        "      <td> 1</td>\n",
        "    </tr>\n",
        "    <tr>\n",
        "      <th>10</th>\n",
        "      <td> 1.712966</td>\n",
        "      <td> 1.050393</td>\n",
        "      <td> 1.629779</td>\n",
        "      <td> 1.601375</td>\n",
        "      <td> 1.647377</td>\n",
        "      <td> 0.300968</td>\n",
        "      <td> 1.992609</td>\n",
        "      <td> 1.531672</td>\n",
        "      <td> 2.482429</td>\n",
        "      <td> 2.441569</td>\n",
        "      <td>...</td>\n",
        "      <td>-0.481899</td>\n",
        "      <td>-0.590523</td>\n",
        "      <td>-0.530606</td>\n",
        "      <td>-0.623637</td>\n",
        "      <td>-1.135895</td>\n",
        "      <td> 0</td>\n",
        "      <td> 1</td>\n",
        "      <td> 0</td>\n",
        "      <td> 0</td>\n",
        "      <td> 1</td>\n",
        "    </tr>\n",
        "  </tbody>\n",
        "</table>\n",
        "<p>11 rows \u00d7 43 columns</p>\n",
        "</div>"
       ],
       "metadata": {},
       "output_type": "pyout",
       "prompt_number": 71,
       "text": [
        "          P1        P2        P3        P4        P5        P6        P7  \\\n",
        "Id                                                                         \n",
        "0  -0.005016  0.390284 -0.307572 -0.366234 -0.006034 -0.636136 -0.184324   \n",
        "1  -0.005016  0.390284 -0.307572 -0.366234 -0.832740 -0.636136 -0.184324   \n",
        "2  -0.692209 -0.269826 -2.244924  0.617571 -0.006034 -0.167584 -0.184324   \n",
        "3   0.682177  0.060229  1.629779  1.601375  1.647377  0.300968  1.992609   \n",
        "4  -0.348612 -0.269826 -1.276248 -0.366234 -0.006034 -0.636136 -0.184324   \n",
        "5   0.682177  1.050393  0.176766  3.077081  4.954199  3.112279  1.992609   \n",
        "6  -0.692209 -0.929935 -0.307572 -0.366234 -0.832740  0.769520 -0.184324   \n",
        "7  -0.005016  0.390284 -0.307572  0.617571 -0.006034 -0.167584 -0.184324   \n",
        "8  -1.035805 -2.250154 -0.307572 -0.366234 -0.832740 -0.636136 -1.925871   \n",
        "9   0.682177  0.060229  1.629779  3.077081  3.300788  0.300968  1.992609   \n",
        "10  1.712966  1.050393  1.629779  1.601375  1.647377  0.300968  1.992609   \n",
        "\n",
        "          P8        P9       P10    ...          P34       P35       P36  \\\n",
        "Id                                  ...                                    \n",
        "0  -0.620524 -0.242673 -0.264701    ...     0.486138  0.573529  0.189127   \n",
        "1  -0.082475 -0.242673 -0.264701    ...    -0.481899 -0.590523 -0.530606   \n",
        "2  -0.082475 -0.242673 -0.264701    ...    -0.481899 -0.590523 -0.530606   \n",
        "3   1.531672  2.482429  2.441569    ...     3.003034  2.901634  2.348327   \n",
        "4  -0.082475 -0.242673 -0.264701    ...     0.098923  0.573529  0.189127   \n",
        "5   1.531672  1.392388  1.359061    ...    -0.481899 -0.590523 -0.530606   \n",
        "6  -0.082475 -0.242673 -0.264701    ...     0.098923  0.864542  0.429038   \n",
        "7  -0.620524 -0.787694 -0.805955    ...    -0.481899 -0.590523 -0.530606   \n",
        "8  -0.082475 -0.242673 -0.264701    ...     0.292531  0.864542  0.429038   \n",
        "9   2.607770  2.482429  2.441569    ...    -0.481899 -0.590523 -0.530606   \n",
        "10  1.531672  2.482429  2.441569    ...    -0.481899 -0.590523 -0.530606   \n",
        "\n",
        "         P37  Years Since Open  DT  FC  IL  Big Cities  Other  \n",
        "Id                                                             \n",
        "0   1.610042          2.349939   0   0   1           1      0  \n",
        "1  -0.623637          0.358034   0   1   0           1      0  \n",
        "2  -0.623637         -0.886907   0   0   1           0      1  \n",
        "3   2.726882         -0.637918   0   0   1           0      1  \n",
        "4   1.051623         -0.139942   0   0   1           0      1  \n",
        "5  -0.623637         -0.139942   0   1   0           1      0  \n",
        "6   1.610042         -0.388930   0   0   1           1      0  \n",
        "7  -0.623637         -0.637918   0   0   1           1      0  \n",
        "8   2.168462         -0.388930   0   0   1           0      1  \n",
        "9  -0.623637         -0.637918   0   0   1           0      1  \n",
        "10 -0.623637         -1.135895   0   1   0           0      1  \n",
        "\n",
        "[11 rows x 43 columns]"
       ]
      }
     ],
     "prompt_number": 71
    },
    {
     "cell_type": "heading",
     "level": 2,
     "metadata": {},
     "source": [
      "Lasso Fit: Create a Lasso object and perform 10-fold Cross Validation to identify optimal regularization alpha term"
     ]
    },
    {
     "cell_type": "code",
     "collapsed": false,
     "input": [
      "lasso = lm.LassoCV(max_iter=10000,cv=10)\n",
      "lasso.fit(xTrainNorm,yTrain)"
     ],
     "language": "python",
     "metadata": {},
     "outputs": [
      {
       "metadata": {},
       "output_type": "pyout",
       "prompt_number": 78,
       "text": [
        "LassoCV(alphas=None, copy_X=True, cv=10, eps=0.001, fit_intercept=True,\n",
        "    max_iter=10000, n_alphas=100, n_jobs=1, normalize=False,\n",
        "    positive=False, precompute='auto', tol=0.0001, verbose=False)"
       ]
      }
     ],
     "prompt_number": 78
    },
    {
     "cell_type": "code",
     "collapsed": false,
     "input": [
      "yPred = lasso.predict(xTrainNorm)\n",
      "RMSE = np.mean((np.exp(yPred)-np.exp(yTrain.values))**2)**.5\n",
      "RMSE"
     ],
     "language": "python",
     "metadata": {},
     "outputs": [
      {
       "metadata": {},
       "output_type": "pyout",
       "prompt_number": 126,
       "text": [
        "2487505.5131190685"
       ]
      }
     ],
     "prompt_number": 126
    },
    {
     "cell_type": "code",
     "collapsed": false,
     "input": [
      "plot = plt.scatter(-np.log10(lasso.alphas_),np.mean(lasso.mse_path_,axis=1))\n",
      "plt.axvline(x=-np.log10(lasso.alpha_), color='k')"
     ],
     "language": "python",
     "metadata": {},
     "outputs": [
      {
       "metadata": {},
       "output_type": "pyout",
       "prompt_number": 92,
       "text": [
        "<matplotlib.lines.Line2D at 0xb63fa20>"
       ]
      },
      {
       "metadata": {},
       "output_type": "display_data",
       "png": "[encoded data removed]",
       "text": [
        "<matplotlib.figure.Figure at 0xb63fa90>"
       ]
      }
     ],
     "prompt_number": 92
    },
    {
     "cell_type": "heading",
     "level": 2,
     "metadata": {},
     "source": [
      "Use the ideal fit model to predict the test file and output to a csv"
     ]
    },
    {
     "cell_type": "code",
     "collapsed": false,
     "input": [
      "test = pd.read_csv('test.csv',sep=',')\n",
      "test.set_index('Id',inplace=True)\n",
      "now = pd.datetime.now() #Get the current datetime to figure out how old the shops are\n",
      "test['Open Date'] = pd.to_datetime(test['Open Date']) #\n",
      "test['Years Since Open'] = ((now - test['Open Date'])/np.timedelta64(1,'Y')).astype('int') ##How many years ago the shops opened\n",
      "test = pd.merge(test,pd.get_dummies(test['Type']),left_index=True,right_index=True,how='left') ##Get the indicator vars for Type\n",
      "test = pd.merge(test,pd.get_dummies(test['City Group']),left_index=True,right_index=True,how='left')##Get the indicator vars for City Group\n",
      "test.drop(['Type', 'City Group','City','Open Date','MB'],inplace=True,axis=1) ##Remove unnecessary columns, MB some unseen variable\n",
      "testNorm = test\n",
      "testNorm[test.columns[:-5]] = (test[test.columns[:-5]] - test[test.columns[:-5]].mean())/test[test.columns[:-5]].std()\n",
      "testPred = lasso.predict(testNorm)"
     ],
     "language": "python",
     "metadata": {},
     "outputs": [],
     "prompt_number": 125
    },
    {
     "cell_type": "code",
     "collapsed": false,
     "input": [
      "testPred = np.exp(np.reshape(testPred,(len(testPred),1)))\n",
      "testPred.tofile('testPred.csv',sep='\\n')"
     ],
     "language": "python",
     "metadata": {},
     "outputs": [],
     "prompt_number": 124
    }
   ],
   "metadata": {}
  }
 ]
}