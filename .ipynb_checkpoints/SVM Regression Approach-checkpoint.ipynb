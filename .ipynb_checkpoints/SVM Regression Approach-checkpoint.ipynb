{
 "metadata": {
  "name": "",
  "signature": "sha256:adfe6e9250909379b0625a1b2147b631a8708d6062e24ac3c8abdbd033b1d41d"
 },
 "nbformat": 3,
 "nbformat_minor": 0,
 "worksheets": [
  {
   "cells": [
    {
     "cell_type": "heading",
     "level": 1,
     "metadata": {},
     "source": [
      "Restaurant Revenue Prediction - Kaggle Competiton"
     ]
    },
    {
     "cell_type": "heading",
     "level": 2,
     "metadata": {},
     "source": [
      "Author: Patrick Boueri"
     ]
    },
    {
     "cell_type": "heading",
     "level": 2,
     "metadata": {},
     "source": [
      "Approach: SVM Regression"
     ]
    },
    {
     "cell_type": "code",
     "collapsed": false,
     "input": [
      "from sklearn import svm \n",
      "from sklearn import cross_validation\n",
      "from sklearn import preprocessing\n",
      "import numpy as np\n",
      "import pandas as pd\n",
      "from matplotlib import pyplot as plt\n",
      "import os\n",
      "import sys\n",
      "import random\n",
      "%matplotlib inline"
     ],
     "language": "python",
     "metadata": {},
     "outputs": [],
     "prompt_number": 1
    },
    {
     "cell_type": "code",
     "collapsed": false,
     "input": [
      "os.path.dirname(os.path.abspath(sys.argv[0]))"
     ],
     "language": "python",
     "metadata": {},
     "outputs": [
      {
       "metadata": {},
       "output_type": "pyout",
       "prompt_number": 2,
       "text": [
        "'C:\\\\Users\\\\Patrick\\\\Columbia\\\\Kaggle Competition\\\\Restaurant Revenue Prediction'"
       ]
      }
     ],
     "prompt_number": 2
    },
    {
     "cell_type": "heading",
     "level": 3,
     "metadata": {},
     "source": [
      "Load in the training data and display some summary stats"
     ]
    },
    {
     "cell_type": "code",
     "collapsed": false,
     "input": [
      "train = pd.read_csv('train.csv',sep=',')\n",
      "train.set_index('Id',inplace=True)"
     ],
     "language": "python",
     "metadata": {},
     "outputs": [],
     "prompt_number": 3
    },
    {
     "cell_type": "code",
     "collapsed": false,
     "input": [
      "plt.hist(train['revenue']) ## The distribution is log normal so correct for it"
     ],
     "language": "python",
     "metadata": {},
     "outputs": [
      {
       "metadata": {},
       "output_type": "pyout",
       "prompt_number": 4,
       "text": [
        "(array([ 36.,  60.,  23.,  10.,   5.,   0.,   1.,   0.,   1.,   1.]),\n",
        " array([  1149870. ,   3004576.9,   4859283.8,   6713990.7,   8568697.6,\n",
        "         10423404.5,  12278111.4,  14132818.3,  15987525.2,  17842232.1,\n",
        "         19696939. ]),\n",
        " <a list of 10 Patch objects>)"
       ]
      },
      {
       "metadata": {},
       "output_type": "display_data",
       "png": "[encoded data removed]",
       "text": [
        "<matplotlib.figure.Figure at 0x44246d8>"
       ]
      }
     ],
     "prompt_number": 4
    },
    {
     "cell_type": "code",
     "collapsed": false,
     "input": [
      "plt.hist(np.log(train['revenue'])) ## Really good looking normal distribution, we can work with it"
     ],
     "language": "python",
     "metadata": {},
     "outputs": [
      {
       "metadata": {},
       "output_type": "pyout",
       "prompt_number": 5,
       "text": [
        "(array([  2.,  11.,  15.,  26.,  40.,  22.,  13.,   5.,   1.,   2.]),\n",
        " array([ 13.95515945,  14.23924089,  14.52332232,  14.80740376,\n",
        "         15.09148519,  15.37556663,  15.65964806,  15.9437295 ,\n",
        "         16.22781093,  16.51189237,  16.7959738 ]),\n",
        " <a list of 10 Patch objects>)"
       ]
      },
      {
       "metadata": {},
       "output_type": "display_data",
       "png": "[encoded data removed]",
       "text": [
        "<matplotlib.figure.Figure at 0x9058e48>"
       ]
      }
     ],
     "prompt_number": 5
    },
    {
     "cell_type": "code",
     "collapsed": false,
     "input": [
      "yTrain = np.log(train['revenue'])\n",
      "xTrain = train.drop('revenue',axis=1)\n",
      "now = pd.datetime.now() #Get the current datetime to figure out how old the shops are\n",
      "xTrain['Open Date'] = pd.to_datetime(xTrain['Open Date']) #\n",
      "xTrain['Years Since Open'] = ((now - xTrain['Open Date'])/np.timedelta64(1,'Y')).astype('int') ##How many years ago the shops opened\n",
      "xTrain = pd.merge(xTrain,pd.get_dummies(xTrain['Type']),left_index=True,right_index=True,how='left') ##Get the indicator vars for Type\n",
      "xTrain = pd.merge(xTrain,pd.get_dummies(xTrain['City Group']),left_index=True,right_index=True,how='left')##Get the indicator vars for City Group\n",
      "xTrain.drop(['Type', 'City Group','City','Open Date'],inplace=True,axis=1) ##Remove unnecessary columns"
     ],
     "language": "python",
     "metadata": {},
     "outputs": [],
     "prompt_number": 6
    },
    {
     "cell_type": "code",
     "collapsed": false,
     "input": [
      "k=10\n",
      "C = np.logspace(-5,5,num=20)\n",
      "Eps = np.logspace(-5,5,num=20)\n",
      "allRows = list(xTrain.index)\n",
      "remainingRows = allRows\n",
      "kIndex = {}\n",
      "for i in range(0,k):\n",
      "    sampleRows = random.sample(remainingRows,int(len(xTrain)/k))\n",
      "    remainingRows = list(set(remainingRows)-set(sampleRows))\n",
      "    kIndex[i] = sampleRows\n",
      "kIndex[k] = remainingRows\n",
      "kIndex"
     ],
     "language": "python",
     "metadata": {},
     "outputs": [
      {
       "metadata": {},
       "output_type": "pyout",
       "prompt_number": 21,
       "text": [
        "{0: [104, 69, 67, 123, 33, 135, 116, 24, 94, 41, 85, 21, 105],\n",
        " 1: [113, 83, 22, 87, 106, 103, 107, 54, 84, 128, 121, 48, 114],\n",
        " 2: [55, 98, 75, 50, 57, 11, 0, 16, 80, 43, 118, 4, 90],\n",
        " 3: [119, 72, 10, 12, 77, 23, 117, 82, 17, 111, 81, 46, 26],\n",
        " 4: [125, 30, 39, 1, 7, 59, 86, 136, 124, 132, 5, 73, 35],\n",
        " 5: [134, 61, 102, 25, 78, 63, 100, 97, 8, 126, 3, 13, 127],\n",
        " 6: [109, 6, 18, 20, 110, 96, 40, 91, 131, 74, 53, 52, 42],\n",
        " 7: [37, 112, 44, 93, 60, 34, 89, 62, 88, 14, 38, 32, 29],\n",
        " 8: [56, 47, 133, 76, 120, 19, 108, 2, 101, 71, 64, 122, 70],\n",
        " 9: [15, 28, 99, 95, 49, 65, 79, 51, 45, 115, 68, 66, 27],\n",
        " 10: [129, 130, 36, 9, 58, 92, 31]}"
       ]
      }
     ],
     "prompt_number": 21
    },
    {
     "cell_type": "heading",
     "level": 2,
     "metadata": {},
     "source": [
      "Cross Validation - Coarse parameter grid search"
     ]
    },
    {
     "cell_type": "code",
     "collapsed": false,
     "input": [
      "RMSEresults = [];\n",
      "nonIndicatorCols = xTrain.columns[:-5]\n",
      "for i in range(0,k+1):\n",
      "    kList = []\n",
      "    remainingRows = list(set(allRows)-set(kIndex[i]))\n",
      "    cvXTrain = xTrain.ix[remainingRows]\n",
      "    cvXTest = xTrain.ix[kIndex[k]]\n",
      "    cvYTrain = yTrain.ix[remainingRows]\n",
      "    cvYTest = yTrain.ix[kIndex[k]]\n",
      "    for c in C:\n",
      "        tempList = []\n",
      "        for eps in Eps:\n",
      "            scaler = preprocessing.StandardScaler().fit(cvXTrain[nonIndicatorCols])\n",
      "            cvXTrainNorm = cvXTrain\n",
      "            cvXTrainNorm[nonIndicatorCols] = scaler.transform(cvXTrain[nonIndicatorCols])\n",
      "            cvXTestNorm = cvXTest\n",
      "            cvXTestNorm[nonIndicatorCols] = scaler.transform(cvXTestNorm[nonIndicatorCols])\n",
      "            svmR = svm.SVR(C = c,epsilon=eps)\n",
      "            svmR.fit(cvXTrainNorm,cvYTrain)\n",
      "            yTestPred = svmR.predict(cvXTest)\n",
      "            rmse = (np.mean((yTestPred-cvYTest)**2))**.5\n",
      "            tempList.append(rmse)\n",
      "        kList.append(tempList)\n",
      "    RMSEresults.append(kList)"
     ],
     "language": "python",
     "metadata": {},
     "outputs": []
    },
    {
     "cell_type": "code",
     "collapsed": false,
     "input": [
      "grid = []\n",
      "absMin ={}\n",
      "absMin['RMSE'] =1\n",
      "for i in range(0,len(C)):\n",
      "    tempList = [];\n",
      "    for j in  range(0,len(Eps)):\n",
      "        sumMSE = 0\n",
      "        for kI in range(0,k+1):\n",
      "            sumMSE = sumMSE + RMSEresults[kI][i][j]\n",
      "        meanMSE = sumMSE/(k+1)\n",
      "        if absMin['RMSE'] > meanMSE:\n",
      "            absMin['RMSE'] = meanMSE\n",
      "            absMin['C'] = C[i]\n",
      "            absMin['Eps'] = Eps[j]\n",
      "        tempList.append(meanMSE)\n",
      "    grid.append(tempList)\n",
      "grid = np.matrix(data=grid)\n",
      "absMin"
     ],
     "language": "python",
     "metadata": {},
     "outputs": [
      {
       "metadata": {},
       "output_type": "pyout",
       "prompt_number": 49,
       "text": [
        "{'RMSE': 0.035635234294532366,\n",
        " 'C': 20.691380811147901,\n",
        " 'Eps': 3.3598182862837813e-05}"
       ]
      }
     ],
     "prompt_number": 49
    },
    {
     "cell_type": "code",
     "collapsed": false,
     "input": [
      "xTrainNorm = xTrain\n",
      "scaler = preprocessing.StandardScaler().fit(xTrain[nonIndicatorCols])\n",
      "xTrainNorm[nonIndicatorCols] = scaler.transform(xTrain[nonIndicatorCols])\n",
      "SVMR = svm.SVR(C = absMin['C'],epsilon = absMin['Eps'])\n",
      "SVMR.fit(xTrainNorm,yTrain)"
     ],
     "language": "python",
     "metadata": {},
     "outputs": [
      {
       "metadata": {},
       "output_type": "pyout",
       "prompt_number": 53,
       "text": [
        "SVR(C=20.691380811147901, cache_size=200, coef0=0.0, degree=3,\n",
        "  epsilon=3.3598182862837813e-05, gamma=0.0, kernel='rbf', max_iter=-1,\n",
        "  probability=False, random_state=None, shrinking=True, tol=0.001,\n",
        "  verbose=False)"
       ]
      }
     ],
     "prompt_number": 53
    },
    {
     "cell_type": "code",
     "collapsed": false,
     "input": [
      "test = pd.read_csv('test.csv',sep=',')\n",
      "test.set_index('Id',inplace=True)\n",
      "now = pd.datetime.now() #Get the current datetime to figure out how old the shops are\n",
      "test['Open Date'] = pd.to_datetime(test['Open Date']) #\n",
      "test['Years Since Open'] = ((now - test['Open Date'])/np.timedelta64(1,'Y')).astype('int') ##How many years ago the shops opened\n",
      "test = pd.merge(test,pd.get_dummies(test['Type']),left_index=True,right_index=True,how='left') ##Get the indicator vars for Type\n",
      "test = pd.merge(test,pd.get_dummies(test['City Group']),left_index=True,right_index=True,how='left')##Get the indicator vars for City Group\n",
      "test.drop(['Type', 'City Group','City','Open Date','MB'],inplace=True,axis=1) ##Remove unnecessary columns, MB some unseen variable\n",
      "testNorm = test\n",
      "testNorm[nonIndicatorCols] = (test[nonIndicatorCols] - test[nonIndicatorCols].mean())/test[nonIndicatorCols].std() ##dunno about this, ask Francois\n",
      "testPred = SVMR.predict(testNorm)"
     ],
     "language": "python",
     "metadata": {},
     "outputs": [],
     "prompt_number": 54
    },
    {
     "cell_type": "code",
     "collapsed": false,
     "input": [
      "testPred = np.exp(np.reshape(testPred,(len(testPred),1)))\n",
      "testPred.tofile('testSVMPred.csv',sep='\\n')"
     ],
     "language": "python",
     "metadata": {},
     "outputs": [],
     "prompt_number": 55
    }
   ],
   "metadata": {}
  }
 ]
}